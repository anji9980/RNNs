{
  "nbformat": 4,
  "nbformat_minor": 0,
  "metadata": {
    "colab": {
      "provenance": []
    },
    "kernelspec": {
      "name": "python3",
      "display_name": "Python 3"
    },
    "language_info": {
      "name": "python"
    }
  },
  "cells": [
    {
      "cell_type": "code",
      "execution_count": 53,
      "metadata": {
        "id": "D74qv-nwpDsk"
      },
      "outputs": [],
      "source": [
        "import numpy as np \n",
        "import random\n",
        "import torch \n",
        "import torch.optim as optim\n",
        "import torchvision\n",
        "from torch.utils.data import Dataset, DataLoader\n",
        "import torch.nn as nn"
      ]
    },
    {
      "cell_type": "code",
      "source": [
        "def data_creation(n,len,value_low=0,value_high=1):\n",
        "    nums =  np.zeros((n,len,1))                                                       \n",
        "    values = np.zeros((n,len,1))                                                      \n",
        "    sums = np.ones((n,1))                                                             \n",
        "                                                                                      \n",
        "    for i in range(n):                                                                \n",
        "        seq_len = np.random.randint(2,len)                                            \n",
        "        num_values = np.random.uniform(0,1,size=(seq_len))                            \n",
        "        num_values = np.pad(num_values,(0,len-seq_len))\n",
        "        #print(nums.shape,num_values.shape)\n",
        "        nums[i] = num_values.reshape(-1,1)\n",
        "\n",
        "        ones = random.sample(range(seq_len), 2)\n",
        "        bin_str = [0] * seq_len\n",
        "        bin_str[ones[0]] = 1\n",
        "        bin_str[ones[1]] = 1\n",
        "        bin_mask=bin_str\n",
        "\n",
        "        # bin_mask = generate_random_binary_string(seq_len)\n",
        "        bin_mask = np.pad(bin_mask,(0,len-seq_len))\n",
        "        values[i]=bin_mask.reshape(-1,1)\n",
        "        sums[i,0] = np.dot(bin_mask,nums[i])\n",
        "    return  np.append(nums,values,axis=2),sums"
      ],
      "metadata": {
        "id": "Yp2VLM9jpXQp"
      },
      "execution_count": 54,
      "outputs": []
    },
    {
      "cell_type": "code",
      "source": [
        "train_data,y_train = data_creation(5000,9,0,1)  #here 9 is max seq length\n",
        "print(train_data.shape)"
      ],
      "metadata": {
        "colab": {
          "base_uri": "https://localhost:8080/"
        },
        "id": "QXXCSKvFsvmz",
        "outputId": "91c3dce0-0e7d-4356-fc8c-fa619f64aef6"
      },
      "execution_count": 55,
      "outputs": [
        {
          "output_type": "stream",
          "name": "stdout",
          "text": [
            "(5000, 9, 2)\n"
          ]
        }
      ]
    },
    {
      "cell_type": "code",
      "source": [
        "class CustomDataset(Dataset):\n",
        "    def __init__(self, data, labels):\n",
        "        self.data = data\n",
        "        self.labels = labels\n",
        "    \n",
        "    def __len__(self):\n",
        "        return len(self.labels)\n",
        "    \n",
        "    def __getitem__(self, index):\n",
        "        x = self.data[index]\n",
        "        y = self.labels[index]\n",
        "        return x, y"
      ],
      "metadata": {
        "id": "HPI0a4EszVUJ"
      },
      "execution_count": 56,
      "outputs": []
    },
    {
      "cell_type": "code",
      "source": [
        "import torch\n",
        "import torch.nn as nn\n",
        "class elmon_(nn.Module):\n",
        "    def __init__(self,n_samples=100, input_size=2, hidden_size=64,num_classes=1):\n",
        "        super(elmon_, self).__init__()\n",
        "        self.weight_x = nn.Parameter(torch.randn(input_size, hidden_size).double())\n",
        "        self.weight_h = nn.Parameter(torch.randn(hidden_size, hidden_size).double())\n",
        "        self.bias = nn.Parameter(torch.randn(hidden_size,))\n",
        "        self.weight_a =  nn.Parameter(torch.randn(hidden_size,num_classes).double())\n",
        "        self.ba =  nn.Parameter(torch.randn(num_classes,).double())\n",
        "       \n",
        "    \n",
        "        \n",
        "    def forward(self, input):\n",
        "        seq_len = input.shape[1]\n",
        "        n = input.shape[0]        \n",
        "      \n",
        "        hidden_size = self.weight_h.shape[0]\n",
        "        h = torch.zeros((n,hidden_size)).double()\n",
        "        \n",
        "        for i in range(seq_len):\n",
        "            h = torch.tanh(self.bias  + (input[:,i,:]).mm(self.weight_x) + h.mm(self.weight_h))\n",
        "        y =  self.ba + h.mm(self.weight_a) \n",
        "        return y\n",
        "    \n",
        "    def loss_nn(self,predict,y):\n",
        "        return nn.MSELoss(predict,y)"
      ],
      "metadata": {
        "id": "EvsiQSwNwBmD"
      },
      "execution_count": 57,
      "outputs": []
    },
    {
      "cell_type": "code",
      "source": [
        "#traing the model\n",
        "model = elmon_()\n",
        "test_data,y_test = data_creation(1000,9,0,1)\n",
        "test_data = np.array(test_data)\n",
        "train_data = np.array(train_data)\n",
        "y_test = np.array(y_test)\n",
        "y_train = np.array(y_train)\n",
        "loss_list = []\n",
        "d_train = CustomDataset(train_data,y_train)\n",
        "d_test = CustomDataset(test_data,y_test)\n",
        "dl_train = DataLoader(d_train, batch_size=100, num_workers=1, shuffle=True)\n",
        "dl_test = DataLoader(d_test, batch_size=100, num_workers=1, shuffle=False)\n",
        "optimizer = optim.Adam(model.parameters(), lr=0.001)\n",
        "criterion = nn.MSELoss()\n",
        "for epoch in range(10):\n",
        "    for i, (x_input, y_input) in enumerate(dl_train):\n",
        "        outs = model(x_input)\n",
        "        loss = criterion(outs, y_input)\n",
        "        optimizer.zero_grad()\n",
        "        loss_list.append(loss)\n",
        "        loss.backward()\n",
        "        optimizer.step()"
      ],
      "metadata": {
        "id": "ZMAw_PZJ1YE8"
      },
      "execution_count": 58,
      "outputs": []
    },
    {
      "cell_type": "code",
      "source": [
        "import torch\n",
        "import torch.nn as nn\n",
        "class LSTM(nn.Module):\n",
        "    def __init__(self, input_size=2, hidden_size=64,num_classes=1):\n",
        "        super(LSTM, self).__init__()\n",
        "        self.weight_x = nn.Parameter(torch.randn(input_size, 4*hidden_size).double())\n",
        "        self.weight_h = nn.Parameter(torch.randn(hidden_size, 4*hidden_size).double())\n",
        "        self.bias = nn.Parameter(torch.randn(4*hidden_size,))\n",
        "        self.weight_a =  nn.Parameter(torch.randn(hidden_size,num_classes).double())\n",
        "        self.ba =  nn.Parameter(torch.randn(num_classes,).double())\n",
        "        \n",
        "    \n",
        "        \n",
        "    def forward(self, input):\n",
        "        seq_len = input.shape[1]\n",
        "        n = input.shape[0]        \n",
        "            \n",
        "        hidden_size = self.weight_h.shape[0]\n",
        "        h = torch.zeros((n,hidden_size)).double()\n",
        "        c = torch.zeros((n,hidden_size)).double()\n",
        "        \n",
        "        for i in range(seq_len):\n",
        "            a = torch.tanh(self.bias  + (input[:,i,:]).mm(self.weight_x)+ h.mm(self.weight_h))\n",
        "            i = torch.sigmoid(a[:, 0:hidden_size])\n",
        "            f = torch.sigmoid(a[:, hidden_size:2*hidden_size])\n",
        "            o = torch.sigmoid(a[:, 2*hidden_size:3*hidden_size])\n",
        "            g = torch.sigmoid(a[:, 3*hidden_size:4*hidden_size])\n",
        "            c = f*c + i*g\n",
        "            h = o*torch.tanh(c)\n",
        "            #h = np.tanh(self.bias + np.dot(self.weight_x,input[:,i,:]) + np.dot(h,self.weight_h))\n",
        "        y = self.ba + h.mm(self.weight_a) \n",
        "        return y\n",
        "    \n",
        "    def loss_nn(self,predict,y):\n",
        "        return nn.MSELoss(predict,y)"
      ],
      "metadata": {
        "id": "Lgt9phJD2Jay"
      },
      "execution_count": 59,
      "outputs": []
    },
    {
      "cell_type": "code",
      "source": [
        "model = LSTM()\n",
        "test_data,y_test = data_creation(1000,9,0,1)\n",
        "test_data = np.array(test_data)\n",
        "train_data = np.array(train_data)\n",
        "y_test = np.array(y_test)\n",
        "y_train = np.array(y_train)\n",
        "d_train = CustomDataset(train_data,y_train)\n",
        "d_test = CustomDataset(test_data,y_test)\n",
        "dl_train = DataLoader(d_train, batch_size=100, num_workers=1, shuffle=True)\n",
        "dl_test = DataLoader(d_test, batch_size=100, num_workers=1, shuffle=False)\n",
        "optimizer = optim.Adam(model.parameters(), lr=0.001)\n",
        "LSTMloss_list = []\n",
        "criterion = nn.MSELoss()\n",
        "for epoch in range(10):\n",
        "    for i, (inputs, labels) in enumerate(dl_train):\n",
        "        outputs = model(inputs)\n",
        "        loss = criterion(outputs, labels)\n",
        "        optimizer.zero_grad()\n",
        "        LSTMloss_list.append(loss)\n",
        "        loss.backward()\n",
        "        optimizer.step()\n",
        "\n",
        "\n",
        "\n"
      ],
      "metadata": {
        "id": "VNC09KZ-28hG"
      },
      "execution_count": 60,
      "outputs": []
    },
    {
      "cell_type": "code",
      "source": [
        "loss_vec_elmon = [float(i) for i in loss_list]\n",
        "loss_vec_lstm = [float(i) for i in LSTMloss_list]"
      ],
      "metadata": {
        "id": "0KvrFyTh3mRa"
      },
      "execution_count": 61,
      "outputs": []
    },
    {
      "cell_type": "code",
      "source": [
        "import matplotlib.pyplot as plt\n",
        "\n",
        "pointer = [j for j in range(500)]\n",
        "base_line = [1 for j in range(500)]\n",
        "\n",
        "plt.plot(pointer,base_line,label='Base line')\n",
        "plt.plot(pointer,loss_vec_elmon,label='Elmon')\n",
        "plt.plot(pointer,loss_vec_lstm,label='LSTM')\n",
        "plt.xlabel('Iterations')\n",
        "plt.ylabel('Loss')\n",
        "plt.legend()\n",
        "plt.show()"
      ],
      "metadata": {
        "colab": {
          "base_uri": "https://localhost:8080/",
          "height": 449
        },
        "id": "bq7YBZ4d3yxK",
        "outputId": "f48bc214-2a60-4b7d-a2d8-554e4bc4c278"
      },
      "execution_count": 62,
      "outputs": [
        {
          "output_type": "display_data",
          "data": {
            "text/plain": [
              "<Figure size 640x480 with 1 Axes>"
            ],
            "image/png": "[encoded data removed]"
          },
          "metadata": {}
        }
      ]
    }
  ]
}